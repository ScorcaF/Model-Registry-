{
 "cells": [
  {
   "cell_type": "code",
   "execution_count": 10,
   "id": "97baf882",
   "metadata": {},
   "outputs": [
    {
     "name": "stdout",
     "output_type": "stream",
     "text": [
      "200\n",
      "MLP successfully inserted.\n",
      "200\n",
      "CNN successfully inserted.\n",
      "cnn\n",
      "mlp\n",
      "Two models in the list.\n"
     ]
    }
   ],
   "source": [
    "import requests\n",
    "\n",
    "from base64 import b64decode\n",
    "from base64 import b64encode\n",
    "import time\n",
    "\n",
    "# 1. Add the MLP and CNN tflite models developed in LAB3-Ex1 to the Model Registry. ----------------\n",
    "\n",
    "#need to put the right url (ip -a...ethernet ?)\n",
    "url = 'http://localhost:8080/add'\n",
    "\n",
    "\n",
    "#read in binary mode \n",
    "tflite_mlp = open('mlp.tflite', 'rb').read()\n",
    "#encoding in b64 binary object\n",
    "mlp_encoded = b64encode(tflite_mlp)\n",
    "#creating b64 string\n",
    "mlp_string = mlp_encoded.decode()\n",
    "\n",
    "#define body and send PUT instruction\n",
    "body = {'name': 'mlp',\n",
    "       'model':  mlp_string}\n",
    "r = requests.put(url, json=body)\n",
    "\n",
    "if r.status_code == 200:\n",
    "    print(r.status_code)\n",
    "    print('MLP successfully inserted.')\n",
    "else:\n",
    "    print('Error:', r.status_code)\n",
    "\n",
    "tflite_cnn = open('cnn.tflite', 'rb').read()\n",
    "#encoding in b64 binary object\n",
    "cnn_encoded = b64encode(tflite_cnn)\n",
    "#creating b64 string\n",
    "cnn_string = cnn_encoded.decode()\n",
    "\n",
    "#define body and send PUT request\n",
    "body = {'name': 'cnn',\n",
    "       'model':  cnn_string}\n",
    "r = requests.put(url, json=body)\n",
    "if r.status_code == 200:\n",
    "    print(r.status_code)\n",
    "    print('CNN successfully inserted.')\n",
    "\n",
    "else:\n",
    "    print('Error:', r.status_code)\n",
    "    \n",
    "    \n",
    "# 2. List the models stored in the Model Registry and verify that their number is two. \n",
    "url = 'http://localhost:8080/list'\n",
    "#send GET rquest\n",
    "r = requests.get(url)\n",
    "if r.status_code == 200:\n",
    "    body = r.json()\n",
    "    models_list = body[\"models\"]\n",
    "    \n",
    "    for model_name in models_list:\n",
    "        print(model_name)\n",
    "    \n",
    "    if len(models_list) == 2:\n",
    "        print(\"Two models in the list.\")\n",
    "        \n",
    "    else: \n",
    "        print(\"Error: {} models in the list.\".format(len(models_list)))\n",
    "        \n",
    "# 3. Invoke the registry to measure and predict temperature and humidity with the CNN model. Set tthres=0.1 and hthres=0.2. \n",
    "\n",
    "# url = 'http://169.254.120.176:8080/predict?model=cnn&tthres=0.1&htres=0.2'\n",
    "# r = requests.get(url)\n",
    "\n"
   ]
  },
  {
   "cell_type": "code",
   "execution_count": null,
   "id": "90746224",
   "metadata": {},
   "outputs": [],
   "source": []
  }
 ],
 "metadata": {
  "kernelspec": {
   "display_name": "Python 3",
   "language": "python",
   "name": "python3"
  },
  "language_info": {
   "codemirror_mode": {
    "name": "ipython",
    "version": 3
   },
   "file_extension": ".py",
   "mimetype": "text/x-python",
   "name": "python",
   "nbconvert_exporter": "python",
   "pygments_lexer": "ipython3",
   "version": "3.8.8"
  }
 },
 "nbformat": 4,
 "nbformat_minor": 5
}
