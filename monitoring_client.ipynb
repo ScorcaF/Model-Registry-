{
 "cells": [
  {
   "cell_type": "code",
   "execution_count": 18,
   "id": "63d62dbb",
   "metadata": {},
   "outputs": [
    {
     "data": {
      "text/plain": [
       "datetime.datetime(1, 1, 1, 0, 0)"
      ]
     },
     "execution_count": 18,
     "metadata": {},
     "output_type": "execute_result"
    }
   ],
   "source": [
    "import json\n",
    "from datetime import datetime\n",
    "from MyMQTT import MyMQTT\n",
    "from DoSomething import DoSomething\n",
    "import time\n",
    "\n",
    "class AlertReceiver(DoSomething):\n",
    "    \n",
    "    def __init__(self, clientID):\n",
    "        self.clientID = clientID\n",
    "        self.myMqttClient = MyMQTT(self.clientID, \"mqtt.eclipseprojects.io\", 1883, self)\n",
    "\n",
    "    def notify(self, topic, msg):\n",
    "        input_json = json.loads(msg)\n",
    "        \n",
    "        date = datetime.fromtimestamp(input_json[\"bt\"])\n",
    "        \n",
    "        records = input_json[\"e\"]\n",
    "        \n",
    "        quantity = records[0][\"n\"]\n",
    "        predicted = records[0][\"v\"]\n",
    "        measure_unity = records[\"u\"]\n",
    "        actual = records[1][\"v\"]\n",
    "                        \n",
    "        \n",
    "        print('({:}/{:}/{:} {:}:{:}:{:}) {:} Alert: Predicted={:}{:} Actual={:}{:}'.format(\n",
    "        date.day, date.month, date.year, date.hour, date.minute, date.second, quantity, predicted,measure_unity, actual, measure_unity))\n",
    "        \n",
    "\n",
    "        \n",
    "test = AudioReceiver(\"alert receiver 1\")\n",
    "test.run()\n",
    "test.myMqttClient.mySubscribe(\"/288876/alert\")"
   ]
  }
 ],
 "metadata": {
  "kernelspec": {
   "display_name": "Python 3",
   "language": "python",
   "name": "python3"
  },
  "language_info": {
   "codemirror_mode": {
    "name": "ipython",
    "version": 3
   },
   "file_extension": ".py",
   "mimetype": "text/x-python",
   "name": "python",
   "nbconvert_exporter": "python",
   "pygments_lexer": "ipython3",
   "version": "3.8.8"
  }
 },
 "nbformat": 4,
 "nbformat_minor": 5
}
